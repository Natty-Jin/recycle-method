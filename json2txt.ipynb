{
 "cells": [
  {
   "cell_type": "code",
   "execution_count": 1,
   "metadata": {},
   "outputs": [],
   "source": [
    "import json\n",
    "import os\n",
    " \n",
    "# JSON 파일이 저장된 디렉토리 경로 설정\n",
    "json_dir = 'Ans\\data' ## 디렉토리 변경 위치\n",
    "output_dir = 'Ans\\data' ## txt 저장 디렉토리 변경\n",
    " \n",
    "# YOLO 라벨을 저장할 디렉토리 생성\n",
    "if not os.path.exists(output_dir):\n",
    "    os.makedirs(output_dir)"
   ]
  },
  {
   "cell_type": "code",
   "execution_count": 2,
   "metadata": {},
   "outputs": [
    {
     "data": {
      "text/plain": [
       "True"
      ]
     },
     "execution_count": 2,
     "metadata": {},
     "output_type": "execute_result"
    }
   ],
   "source": [
    "import json\n",
    "import os\n",
    " \n",
    "# JSON 파일이 저장된 디렉토리 경로 설정\n",
    "json_dir = 'Ans\\data' ## 디렉토리 변경 위치\n",
    "meta_file = 'metainfo.json' ## 디렉토리 변경 위치\n",
    "output_dir = 'Ans\\data' ## txt 저장 디렉토리 변경\n",
    "\n",
    "# # metainfo 파일 지정\n",
    "with open(meta_file, 'r', encoding='utf-8') as f:\n",
    "    metadata = json.load(f)\n",
    "# metainfo_id = None\n",
    "none_list = []\n",
    "\n",
    "metainfos = {meta['id'] : meta for meta in metadata['metainfo']}\n",
    "\n",
    "metainfos[1]['label']"
   ]
  },
  {
   "cell_type": "code",
   "execution_count": 3,
   "metadata": {},
   "outputs": [],
   "source": [
    "# JSON 디렉토리 내의 모든 파일 처리\n",
    "for json_filename in os.listdir(json_dir):\n",
    "    if json_filename.endswith('.json'):\n",
    "        json_file_path = os.path.join(json_dir, json_filename)\n",
    " \n",
    "        # JSON 파일 로드 (UTF-8 인코딩 사용)\n",
    "        with open(json_file_path, 'r', encoding='utf-8') as f:\n",
    "            data = json.load(f)\n",
    "            \n",
    "        # 이미지 정보와 주석 정보 추출\n",
    "        images = {img['id']: img for img in data['images']}\n",
    "        annotations = data['annotations']\n",
    "        categories = {cat['id']: cat for cat in data['categories']}\n",
    "        metainfo = {meta['id'] : meta for meta in data['metainfo']}\n",
    " \n",
    "        # YOLO 형식으로 변환\n",
    "        for ann in annotations:\n",
    "            image_id = ann['image_id']\n",
    "            image_info = images[image_id]\n",
    "            category_id = ann['category_id']\n",
    "            bbox = ann['bbox']\n",
    "\n",
    "            metainfo_id = int(metainfos[int(ann['metainfo_id'])]['label'])\n",
    "            \n",
    "            # 파일명과 라벨유무 메타인포 대조용 코드\n",
    "            # print(json_filename, ann['metainfo_id'], metainfos[int(ann['metainfo_id'])]['name'])\n",
    "            # print(metainfos[int(ann['metainfo_id'])]['label'], int(metainfos[int(ann['metainfo_id'])]['label']))\n",
    "            \n",
    "            # 바운딩 박스 변환\n",
    "            x_center = (bbox[0] + bbox[2] / 2) / image_info['width']\n",
    "            y_center = (bbox[1] + bbox[3] / 2) / image_info['height']\n",
    "            width = bbox[2] / image_info['width']\n",
    "            height = bbox[3] / image_info['height']\n",
    " \n",
    "            # YOLO 라벨 파일 경로\n",
    "            yolo_label_file = os.path.join(output_dir, f\"{os.path.splitext(image_info['file_name'])[0]}.txt\")\n",
    " \n",
    "            # YOLO 라벨 파일에 저장\n",
    "            with open(yolo_label_file, 'a') as f:\n",
    "                \n",
    "                # 라벨 유무를 포함하는 8종류로의 분할\n",
    "                f.write(f\"{((category_id * 2) + metainfo_id)} {x_center} {y_center} {width} {height}\\n\")\n",
    "                # 단순 라벨의 유무만을 구분\n",
    "                # f.write(f\"{(metainfo_id)} {x_center} {y_center} {width} {height}\\n\")\n",
    "            \n",
    "            # metainfo_id가 json에 없는 파일의 명단을 출력    \n",
    "            # with open(os.path.join(json_dir, \"nonee.txt\"), 'w') as f:\n",
    "\t        #     f.write('\\n'.join(none_list) + '\\n')"
   ]
  },
  {
   "cell_type": "code",
   "execution_count": null,
   "metadata": {},
   "outputs": [],
   "source": [
    "# metainfo_id가 json 파일에 존재하지 않는 파일의 명단에서 중복 데이터를 제거\n",
    "\n",
    "# def remove_duplicate_lines(filename):\n",
    "#     lines_seen = set()  # 중복된 줄을 저장할 집합\n",
    "\n",
    "#     with open(filename, 'r') as infile:\n",
    "#         lines = infile.readlines()\n",
    "\n",
    "#     with open(filename, 'w') as outfile:\n",
    "#         for line in lines:\n",
    "#             if line not in lines_seen:\n",
    "#                 outfile.write(line)\n",
    "#                 lines_seen.add(line)\n",
    "\n",
    "# # 사용 예시\n",
    "# filename = r'Ans\\data\\nonee.txt'  # 파일 이름을 적절히 변경하세요\n",
    "# remove_duplicate_lines(filename)"
   ]
  }
 ],
 "metadata": {
  "kernelspec": {
   "display_name": "Python 3",
   "language": "python",
   "name": "python3"
  },
  "language_info": {
   "codemirror_mode": {
    "name": "ipython",
    "version": 3
   },
   "file_extension": ".py",
   "mimetype": "text/x-python",
   "name": "python",
   "nbconvert_exporter": "python",
   "pygments_lexer": "ipython3",
   "version": "3.10.11"
  }
 },
 "nbformat": 4,
 "nbformat_minor": 2
}
