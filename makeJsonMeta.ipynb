{
 "cells": [
  {
   "cell_type": "code",
   "execution_count": 1,
   "metadata": {},
   "outputs": [],
   "source": [
    "import json\n",
    "import os\n",
    "\n",
    "# JSON 파일이 저장된 디렉토리 경로 설정\n",
    "json_dir = 'Ans\\data' ## 디렉토리 변경 위치\n",
    "meta_file = 'metainfo.json' ## 디렉토리 변경 위치\n",
    "output_dir = 'Ans\\data' ## txt 저장 디렉토리 변경\n",
    "\n",
    "# metainfo_id가 없는 pet의 경우 별도의 metainfo_id 추가\n",
    "def process_json_file_PET(filename):\n",
    "    # 파일 읽기 (UTF-8 인코딩으로 지정)\n",
    "    with open(os.path.join(json_dir, filename), 'r', encoding='utf-8') as json_file:\n",
    "        data = json.load(json_file)\n",
    "\n",
    "    # annotations 내부에 metainfo_id가 없는 경우 파일명의 앞 6글자를 metainfo_id로 입력\n",
    "    for ann in data['annotations']:\n",
    "        if 'metainfo_id' not in ann:\n",
    "            ann['metainfo_id'] = os.path.splitext(os.path.basename(filename))[0][5:7]\n",
    "            ann['metainfo_id'] = str(int(ann['metainfo_id']))\n",
    "\n",
    "    # 수정된 데이터를 파일에 쓰기\n",
    "    with open(os.path.join(json_dir, filename), 'w', encoding='utf-8') as json_file:\n",
    "        json.dump(data, json_file, indent=4)\n",
    "        \n",
    "# metainfo_id가 없는 ps의 경우 별도의 metainfo_id 추가\n",
    "def process_json_file_PS(filename):\n",
    "    # 파일 읽기 (UTF-8 인코딩으로 지정)\n",
    "    with open(os.path.join(json_dir, filename), 'r', encoding='utf-8') as json_file:\n",
    "        data = json.load(json_file)\n",
    "\n",
    "    # annotations 내부에 metainfo_id가 없는 경우 파일명의 앞 6글자를 metainfo_id로 입력\n",
    "    for ann in data['annotations']:\n",
    "        if 'metainfo_id' not in ann:\n",
    "            ann['metainfo_id'] = os.path.splitext(os.path.basename(filename))[0][4:6]\n",
    "            ann['metainfo_id'] = str(int(ann['metainfo_id']))\n",
    "\n",
    "    # 수정된 데이터를 파일에 쓰기\n",
    "    with open(os.path.join(json_dir, filename), 'w', encoding='utf-8') as json_file:\n",
    "        json.dump(data, json_file, indent=4)\n",
    "        \n",
    "for json_filename in os.listdir(json_dir):\n",
    "    if json_filename.endswith('.json'):\n",
    "        json_file_path = os.path.join(json_dir, json_filename)\n",
    "        \n",
    "        if json_filename.startswith(\"PET\") :\n",
    "            process_json_file_PET(json_filename)\n",
    "        elif json_filename.startswith(\"PS\") :\n",
    "            process_json_file_PS(json_filename)"
   ]
  }
 ],
 "metadata": {
  "kernelspec": {
   "display_name": "Python 3",
   "language": "python",
   "name": "python3"
  },
  "language_info": {
   "codemirror_mode": {
    "name": "ipython",
    "version": 3
   },
   "file_extension": ".py",
   "mimetype": "text/x-python",
   "name": "python",
   "nbconvert_exporter": "python",
   "pygments_lexer": "ipython3",
   "version": "3.10.11"
  }
 },
 "nbformat": 4,
 "nbformat_minor": 2
}
