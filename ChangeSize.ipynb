{
 "cells": [
  {
   "cell_type": "code",
   "execution_count": 1,
   "metadata": {},
   "outputs": [],
   "source": [
    "import os\n",
    "from PIL import Image\n",
    "\n",
    "def resize_images(folder, new_dimension):\n",
    "    images_folder = os.path.abspath(folder)\n",
    "    for filename in os.listdir(images_folder):\n",
    "        if filename.lower().endswith('.jpg'):\n",
    "            image_path = os.path.join(images_folder, filename)\n",
    "            image = Image.open(image_path)\n",
    "            resized_image = image.resize(new_dimension, Image.BILINEAR)  # 다른 보간 방법 사용\n",
    "            resized_image.save(image_path, 'JPEG', quality=90)\n",
    "\n",
    "# 사용 예시:\n",
    "folder_path = r'Ans\\data'  # 이미지 파일이 있는 폴더 경로\n",
    "new_size = (640, 640)  # 변경할 크기 (가로, 세로)\n",
    "resize_images(folder_path, new_size)"
   ]
  }
 ],
 "metadata": {
  "kernelspec": {
   "display_name": "Python 3",
   "language": "python",
   "name": "python3"
  },
  "language_info": {
   "codemirror_mode": {
    "name": "ipython",
    "version": 3
   },
   "file_extension": ".py",
   "mimetype": "text/x-python",
   "name": "python",
   "nbconvert_exporter": "python",
   "pygments_lexer": "ipython3",
   "version": "3.10.11"
  }
 },
 "nbformat": 4,
 "nbformat_minor": 2
}
